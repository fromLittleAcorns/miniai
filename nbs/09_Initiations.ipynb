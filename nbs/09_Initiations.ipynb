{
 "cells": [
  {
   "cell_type": "code",
   "execution_count": null,
   "id": "fc755e4f-fac5-4dc4-b340-8971b3778e17",
   "metadata": {},
   "outputs": [],
   "source": [
    "#|default_exp init"
   ]
  },
  {
   "cell_type": "markdown",
   "id": "a43a5491-d004-4132-b7f8-dc60cfa32939",
   "metadata": {},
   "source": [
    "### Initialization\n",
    "\n",
    "Temp version to get things running.  Need to remove much content to a tutorial notebook"
   ]
  },
  {
   "cell_type": "code",
   "execution_count": null,
   "id": "d73a39b9-f14b-4622-953d-7caa77c521e7",
   "metadata": {},
   "outputs": [],
   "source": [
    "#|export\n",
    "import pickle,gzip,math,os,time,shutil,torch,matplotlib as mpl,numpy as np,matplotlib.pyplot as plt\n",
    "import sys,gc,traceback\n",
    "import fastcore.all as fc\n",
    "from collections.abc import Mapping\n",
    "from pathlib import Path\n",
    "from operator import attrgetter,itemgetter\n",
    "from functools import partial\n",
    "from copy import copy\n",
    "from contextlib import contextmanager\n",
    "\n",
    "import torchvision.transforms.functional as TF,torch.nn.functional as F\n",
    "from torch import tensor,nn,optim\n",
    "from torch.utils.data import DataLoader,default_collate\n",
    "from torch.nn import init\n",
    "from torcheval.metrics import MulticlassAccuracy\n",
    "from datasets import load_dataset,load_dataset_builder\n",
    "\n",
    "from miniai.datasets import *\n",
    "from miniai.utils import set_seed, def_device\n",
    "from miniai.callbacks import *\n",
    "from miniai.learner import *\n",
    "from miniai.activations import *\n",
    "from miniai.layers import GeneralRelu\n",
    "from miniai.model_blocks import conv"
   ]
  },
  {
   "cell_type": "code",
   "execution_count": null,
   "id": "08aa0236-5eb9-4fcd-ba38-7a16391d2436",
   "metadata": {},
   "outputs": [],
   "source": [
    "from fastcore.test import test_close\n",
    "\n",
    "torch.set_printoptions(precision=2, linewidth=140, sci_mode=False)\n",
    "torch.manual_seed(1)\n",
    "\n",
    "import logging\n",
    "logging.disable(logging.WARNING)\n",
    "\n",
    "set_seed(42)"
   ]
  },
  {
   "cell_type": "code",
   "execution_count": null,
   "id": "3b1bffd4-137c-4f69-8a90-c798f4aff98b",
   "metadata": {},
   "outputs": [],
   "source": [
    "# Set to avoid mps on mac - comment out\n",
    "if def_device == 'mps': def_device = 'cpu'"
   ]
  },
  {
   "cell_type": "code",
   "execution_count": null,
   "id": "7f5310b8-4037-4868-a5f1-5a15c7318b32",
   "metadata": {},
   "outputs": [],
   "source": [
    "xl,yl = 'image','label'\n",
    "name = \"fashion_mnist\"\n",
    "dsd = load_dataset(name)\n",
    "\n",
    "@inplace\n",
    "def transformi(b): b[xl] = [TF.to_tensor(o) for o in b[xl]]\n",
    "\n",
    "bs = 1024\n",
    "tds = dsd.with_transform(transformi)\n",
    "\n",
    "dls = DataLoaders.from_dd(tds, bs, num_workers=4)\n",
    "dt = dls.train\n",
    "xb,yb = next(iter(dt))\n",
    "xb.shape,yb[:10]"
   ]
  },
  {
   "cell_type": "code",
   "execution_count": null,
   "id": "54285017-f040-411e-a1ad-07caa9b25a72",
   "metadata": {},
   "outputs": [],
   "source": [
    "def get_model():\n",
    "    return nn.Sequential(conv(1 ,8), conv(8 ,16), conv(16,32), conv(32,64),\n",
    "                         conv(64,10, act=False), nn.Flatten()).to(def_device)"
   ]
  },
  {
   "cell_type": "code",
   "execution_count": null,
   "id": "8905ed35-e03b-4f89-b575-8abb4f851353",
   "metadata": {},
   "outputs": [],
   "source": [
    "MomentumLearner(get_model(), dls, F.cross_entropy, cbs=[DeviceCB()]).lr_find(gamma=1.1, start_lr=1.e-2)"
   ]
  },
  {
   "cell_type": "code",
   "execution_count": null,
   "id": "d4f09a21-a429-471c-be4b-7d3b0db616eb",
   "metadata": {},
   "outputs": [],
   "source": [
    "metrics = MetricsCB(accuracy=MulticlassAccuracy())\n",
    "astats = ActivationStatsCB(fc.risinstance(nn.ReLU))\n",
    "cbs = [DeviceCB(), metrics, ProgressCB(plot=True), astats]\n",
    "learn = TrainLearner(get_model(), dls, F.cross_entropy, lr=0.2, cbs=cbs, opt=optim.ActivationStatsCB)"
   ]
  },
  {
   "cell_type": "code",
   "execution_count": null,
   "id": "d1b110bf-f4f4-43ea-89c3-ec482be9bc91",
   "metadata": {},
   "outputs": [],
   "source": [
    "learn.fit(1)"
   ]
  },
  {
   "cell_type": "code",
   "execution_count": null,
   "id": "4b0cd9e1-f375-4698-b256-099cbe1d5e59",
   "metadata": {},
   "outputs": [],
   "source": [
    "astats.color_dim()"
   ]
  },
  {
   "cell_type": "code",
   "execution_count": null,
   "id": "e399ed1d-859d-44cd-9306-10cbea7dffbd",
   "metadata": {},
   "outputs": [],
   "source": [
    "astats.plot_stats()"
   ]
  },
  {
   "cell_type": "code",
   "execution_count": null,
   "id": "2c22bfa2-6d5f-4d5a-8cbd-c76881eb99c6",
   "metadata": {},
   "outputs": [],
   "source": [
    "#|export\n",
    "class BatchTransformCB(Callback):\n",
    "    def __init__(self, tfm, on_train=True, on_val=True): fc.store_attr()\n",
    "    \n",
    "    def before_batch(self, learn):\n",
    "        if (self.on_train and learn.training) or (self.on_val and not learn.training): \n",
    "            learn.batch = self.tfm(learn.batch)"
   ]
  },
  {
   "cell_type": "code",
   "execution_count": null,
   "id": "4c48f34d-151b-49bc-a566-f0777b7c7207",
   "metadata": {},
   "outputs": [],
   "source": [
    "def _norm(x):\n",
    "    \"\"\"Function to normalise the input to a neural network from a batch of data.  \n",
    "    The targets are returned unchanged\n",
    "    \"\"\"\n",
    "    return (x[0]-xmean/xstd, x[1])"
   ]
  },
  {
   "cell_type": "code",
   "execution_count": null,
   "id": "46d752d1-6349-4041-bfe1-a8db9eb7d19b",
   "metadata": {},
   "outputs": [],
   "source": [
    "#|export\n",
    "def plot_func(f, start=-5, end=5, steps=100):\n",
    "    x = torch.linspace(start, end, steps)\n",
    "    plt.plot(x, f(x))\n",
    "    plt.grid(visible=True, which='both', ls='--')\n",
    "    plt.axhline(y=0, color='k', linewidth=1.0)\n",
    "    plt.axvline(x=0, color='k', linewidth=1.0)"
   ]
  },
  {
   "cell_type": "code",
   "execution_count": null,
   "id": "90b6dcdd-797e-4a57-9212-6ebd253b8824",
   "metadata": {},
   "outputs": [],
   "source": [
    "#| export\n",
    "def init_weights(m, leaky=0.):\n",
    "    if isinstance(m, (nn.Conv1d,nn.Conv2d,nn.Conv3d)): init.kaiming_normal_(m.weight, a=leaky)"
   ]
  },
  {
   "cell_type": "code",
   "execution_count": null,
   "id": "59b233dd-843e-449e-b6f5-dd0615b40e33",
   "metadata": {},
   "outputs": [],
   "source": [
    "#|export\n",
    "def _lsuv_stats(hook, mod, inp, outp):\n",
    "    \"\"\"Calculate stats for a specific module given the input and output values.  Assigns the mean and std\n",
    "    as properties of the hook\n",
    "    \"\"\"\n",
    "    acts = to_cpu(outp)\n",
    "    hook.mean = acts.mean()\n",
    "    hook.std = acts.std()\n",
    "    \n",
    "def lsuv_init(m, m_in, xb):\n",
    "    \"\"\" Setput hook for specific module (one of the activation layer outputs usually).  Run a batch of \n",
    "    data trhough the model and adjust the weights of the layer feeding the hooked layer to bring the mean\n",
    "    and std deviation at the end of thta layer to the target values\n",
    "    \n",
    "    args:\n",
    "        m: layer to apply hook to.  Usually the output of an activation\n",
    "        m_in: layer prior to the activation\n",
    "        xb: a batch of data\n",
    "    \"\"\"\n",
    "    h = Hook(m, _lsuv_stats)\n",
    "    with torch.no_grad():\n",
    "        while model(xb) is not None and (abs(h.mean)>1e-3 or (abs(h.std-1)>1.e-3)):\n",
    "            m_in.bias -= h.mean\n",
    "            m_in.weight.data /= h.std\n",
    "    h.remove()"
   ]
  },
  {
   "cell_type": "markdown",
   "id": "cdf7137c-e84d-4aa1-ad3c-c8b8c33ba0d6",
   "metadata": {},
   "source": [
    "### Export "
   ]
  },
  {
   "cell_type": "code",
   "execution_count": null,
   "id": "5ae55fe2-58ab-4150-a244-49cb252b7de2",
   "metadata": {},
   "outputs": [],
   "source": [
    "import nbdev; nbdev.nbdev_export()"
   ]
  },
  {
   "cell_type": "code",
   "execution_count": null,
   "id": "71ffecfa-8f86-4b74-8270-b2e1d4d8eef6",
   "metadata": {},
   "outputs": [],
   "source": []
  }
 ],
 "metadata": {
  "kernelspec": {
   "display_name": "python3",
   "language": "python",
   "name": "python3"
  }
 },
 "nbformat": 4,
 "nbformat_minor": 5
}
