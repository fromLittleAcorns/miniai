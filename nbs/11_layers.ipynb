{
 "cells": [
  {
   "cell_type": "code",
   "execution_count": null,
   "id": "02490ac6-3a24-49e2-b942-e0db33383732",
   "metadata": {},
   "outputs": [],
   "source": [
    "#|default_exp layers"
   ]
  },
  {
   "cell_type": "markdown",
   "id": "65745057-0cbd-4134-9ac5-642005d0c044",
   "metadata": {},
   "source": [
    "### Notebook to contain customised versions of layers and torch functions for model construction"
   ]
  },
  {
   "cell_type": "code",
   "execution_count": null,
   "id": "80079196-3f09-4061-8355-5f6f69011414",
   "metadata": {},
   "outputs": [],
   "source": [
    "#|export\n",
    "import numpy as np\n",
    "import torch\n",
    "import torch.nn as nn\n",
    "import torchvision.transforms.functional as TF,torch.nn.functional as F\n",
    "import fastcore.test as fct"
   ]
  },
  {
   "cell_type": "code",
   "execution_count": null,
   "id": "9a026d8c-338c-45d2-bcda-2ddf10c1aa04",
   "metadata": {},
   "outputs": [],
   "source": [
    "#|export\n",
    "class GeneralRelu(nn.Module):\n",
    "    \"\"\" Extension of leaky relu with the option to limit the max value as well as subtract a constant from the \n",
    "    output of the leaky relu (presumably to move the transition point away from zero\n",
    "    \"\"\"\n",
    "    def __init__(self, leak=None, sub=None, maxv=None):\n",
    "        super().__init__()\n",
    "        self.leak, self.sub, self. maxv = leak, sub, maxv\n",
    "        \n",
    "    def forward(self, x):\n",
    "        x = F.leaky_relu(x, self.leak) if self.leak is not None else F.relu(x)\n",
    "        if self.sub is not None: x -= self.sub\n",
    "        if self.maxv is not None: x = x.clamp_max_(self.maxv)\n",
    "        return x"
   ]
  },
  {
   "cell_type": "markdown",
   "id": "3ad0cb21-8516-4f14-a7da-6f33721a29a2",
   "metadata": {},
   "source": [
    "#### Tests for GeneralReLu"
   ]
  },
  {
   "cell_type": "markdown",
   "id": "c8c4c9d7-a22f-40b5-9bb0-3b92a9f70134",
   "metadata": {},
   "source": [
    "Test are needed to:\n",
    "1. Check that the value returned below sub is sub\n",
    "2. Check that values between sub and maxv return the identity\n",
    "3. Check that values above maxv will return maxv\n",
    "4. Check that if leak is not supplied then it behaves in the same way as relu\n",
    "5. Check that it works properly if sub and maxv are None"
   ]
  },
  {
   "cell_type": "code",
   "execution_count": null,
   "id": "3faa9875-0760-481b-a87e-2be8155d103b",
   "metadata": {},
   "outputs": [
    {
     "data": {
      "text/plain": [
       "True"
      ]
     },
     "execution_count": null,
     "metadata": {},
     "output_type": "execute_result"
    }
   ],
   "source": [
    "# Check similar to Relu with no options\n",
    "gru = GeneralRelu(leak=None, sub=None, maxv=None)\n",
    "high_val = 50000.0\n",
    "low_val = -50000.0\n",
    "eps = 1.e-9\n",
    "fct.is_close(gru(torch.tensor(-1.e-6)).numpy(), 0., eps=eps)\n",
    "fct.is_close(gru(torch.tensor(high_val)).numpy(), high_val, eps)\n",
    "fct.is_close(gru(torch.tensor(low_val)).numpy(), 0., eps)"
   ]
  },
  {
   "cell_type": "code",
   "execution_count": null,
   "id": "4d45cd1a-d062-4037-bbb7-85fb9c18c135",
   "metadata": {},
   "outputs": [
    {
     "data": {
      "text/plain": [
       "True"
      ]
     },
     "execution_count": null,
     "metadata": {},
     "output_type": "execute_result"
    }
   ],
   "source": [
    "# Check leak working with sub and maxv\n",
    "leaky_slope = 0.05\n",
    "sub=0.1\n",
    "maxv=5.0\n",
    "gru = GeneralRelu(leak=leaky_slope, sub=sub, maxv=maxv)\n",
    "x = np.zeros(4, dtype=np.float32)\n",
    "y = np.zeros(4, dtype=np.float32)\n",
    "# Check max value is limited to maxv\n",
    "x[0] = 50000.0\n",
    "y[0] = maxv\n",
    "# Check that at input of max v the value returned is reduced by sub\n",
    "x[1] = maxv\n",
    "y[1] = maxv - sub\n",
    "# Check that at input of zero then -sub is returned\n",
    "x[2] = 0.\n",
    "y[2] = -sub\n",
    "# Check that for an aribtary negative value the value returned is correct for slope and subtraction\n",
    "x[3] = -5.\n",
    "y[3] = (-5. * leaky_slope - sub)\n",
    "# Note - might be desirable to check that negative value of leaky slope raises an exception, as does positive value of\n",
    "# sub or negative value of maxv.  Need to build in checks first though\n",
    "\n",
    "fct.is_close(gru(torch.tensor(x)).numpy(), y, eps=eps)"
   ]
  },
  {
   "cell_type": "markdown",
   "id": "554b8396-badf-4c89-980f-b1bfbba1cba2",
   "metadata": {},
   "source": [
    "### Export"
   ]
  },
  {
   "cell_type": "code",
   "execution_count": null,
   "id": "9d770102-4127-4538-8aab-694bd07754e1",
   "metadata": {},
   "outputs": [],
   "source": [
    "import nbdev; nbdev.nbdev_export()"
   ]
  },
  {
   "cell_type": "code",
   "execution_count": null,
   "id": "0a62e362-0bc9-4a16-8bbd-3459fa8c54a1",
   "metadata": {},
   "outputs": [],
   "source": []
  }
 ],
 "metadata": {
  "kernelspec": {
   "display_name": "python3",
   "language": "python",
   "name": "python3"
  }
 },
 "nbformat": 4,
 "nbformat_minor": 5
}
