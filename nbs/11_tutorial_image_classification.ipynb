{
 "cells": [
  {
   "cell_type": "markdown",
   "id": "52897847-09e8-4174-bdd5-a516e27c8975",
   "metadata": {},
   "source": [
    "### Tutorial covering using Miniai for Image Classification\n",
    "\n",
    "This tutorial covers how to use the miniai library for image classification.  It begins with Mnist and then moves to the Imagenet Tiny.  The evolution of the models includes the use of data augmentation techniques"
   ]
  },
  {
   "cell_type": "markdown",
   "id": "287de3fb-b056-4058-a0f6-0b323ac526e2",
   "metadata": {},
   "source": [
    "### Import Libraies and setup"
   ]
  },
  {
   "cell_type": "code",
   "execution_count": null,
   "id": "cbd5b6c8-60c4-439b-bf79-54180f3b3f77",
   "metadata": {},
   "outputs": [
    {
     "name": "stderr",
     "output_type": "stream",
     "text": [
      "/home/miniai_env/lib/python3.11/site-packages/tqdm/auto.py:21: TqdmWarning: IProgress not found. Please update jupyter and ipywidgets. See https://ipywidgets.readthedocs.io/en/stable/user_install.html\n",
      "  from .autonotebook import tqdm as notebook_tqdm\n"
     ]
    }
   ],
   "source": [
    "import pickle,gzip,math,os,time,shutil,torch,matplotlib as mpl,numpy as np,matplotlib.pyplot as plt\n",
    "import fastcore.all as fc\n",
    "from collections.abc import Mapping\n",
    "from pathlib import Path\n",
    "from operator import attrgetter,itemgetter\n",
    "from functools import partial\n",
    "from copy import copy\n",
    "from contextlib import contextmanager\n",
    "\n",
    "import torchvision.transforms.functional as TF,torch.nn.functional as F\n",
    "from torch import tensor,nn,optim\n",
    "from torch.utils.data import DataLoader,default_collate\n",
    "from torch.nn import init\n",
    "from torch.optim import lr_scheduler\n",
    "from torcheval.metrics import MulticlassAccuracy\n",
    "from datasets import load_dataset,load_dataset_builder"
   ]
  },
  {
   "cell_type": "code",
   "execution_count": null,
   "id": "1c3828ed-ed77-457d-a478-2ecab52c4f28",
   "metadata": {},
   "outputs": [],
   "source": [
    "from miniai.datasets import DataLoaders, get_dls, collate_dict, inplace\n",
    "from miniai.learner import Learner, TrainLearner, MetricsCB, DeviceCB, ProgressCB, LRFinderCB\n",
    "from miniai.plotting import show_image, show_images\n",
    "from miniai.model_blocks import conv, ResBlock, lin, pre_conv\n",
    "from miniai.utils import set_seed\n",
    "from miniai.activations import append_stats, ActivationStatsCB"
   ]
  },
  {
   "cell_type": "markdown",
   "id": "3787fc65-ae32-498a-acc2-6578fb2974d0",
   "metadata": {},
   "source": [
    "### Set basic parameters and defaults"
   ]
  },
  {
   "cell_type": "code",
   "execution_count": null,
   "id": "12133b4e-1e7d-4fe5-b892-5c8f5c4c1d5b",
   "metadata": {},
   "outputs": [],
   "source": [
    "torch.set_printoptions(precision=2, linewidth=140, sci_mode=False)\n",
    "torch.manual_seed(1)\n",
    "mpl.rcParams['image.cmap'] = 'gray'\n",
    "\n",
    "import logging\n",
    "logging.disable(logging.WARNING)\n",
    "\n",
    "set_seed(42)\n",
    "\n",
    "if fc.defaults.cpus>8: fc.defaults.cpus=8"
   ]
  },
  {
   "cell_type": "markdown",
   "id": "7e416338-6432-4332-8cc8-cfd6fe451652",
   "metadata": {},
   "source": [
    "### Load and configure Mnist Data "
   ]
  },
  {
   "cell_type": "code",
   "execution_count": null,
   "id": "265633fb-5cc9-4eb8-bd9f-4cc899c09a35",
   "metadata": {},
   "outputs": [],
   "source": [
    "xl,yl = 'image','label'\n",
    "name = \"fashion_mnist\"\n",
    "bs = 1024\n",
    "xmean,xstd = 0.28, 0.35\n",
    "\n",
    "@inplace\n",
    "def transformi(b): b[xl] = [(TF.to_tensor(o)-xmean)/xstd for o in b[xl]]\n",
    "\n",
    "dsd = load_dataset(name)\n",
    "tds = dsd.with_transform(transformi)\n",
    "dls = DataLoaders.from_dd(tds, bs, num_workers=fc.defaults.cpus)"
   ]
  },
  {
   "cell_type": "markdown",
   "id": "de187448-d63a-4a95-8e82-155a217e4d3d",
   "metadata": {},
   "source": [
    "### Prepare Model callbacks, initialization, progress monitoring and metrics"
   ]
  },
  {
   "cell_type": "code",
   "execution_count": null,
   "id": "9909a8af-3536-48f4-bd26-8e3ee1573f9a",
   "metadata": {},
   "outputs": [],
   "source": []
  },
  {
   "cell_type": "code",
   "execution_count": null,
   "id": "ebe755a3-eaf1-4a00-988e-e03f795a58a9",
   "metadata": {},
   "outputs": [],
   "source": [
    "astats = ActivationStatsCB(append_stats, fc.risinstance(GeneralRelu))\n",
    "metrics = MetricsCB(accuracy=MulticlassAccuracy())\n",
    "cbs = [DeviceCB(), metrics, ProgressCB(plot=True), astats]\n",
    "act_gr = partial(GeneralRelu, leak=0.1, sub=0.4)\n",
    "iw = partial(init_weights, leaky=0.1)"
   ]
  }
 ],
 "metadata": {
  "kernelspec": {
   "display_name": "miniai_env",
   "language": "python",
   "name": "miniai_env"
  }
 },
 "nbformat": 4,
 "nbformat_minor": 5
}
