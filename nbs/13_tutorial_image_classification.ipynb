{
 "cells": [
  {
   "cell_type": "code",
   "execution_count": null,
   "id": "26d76705-b776-45a0-8675-719f13181840",
   "metadata": {},
   "outputs": [],
   "source": [
    "%load_ext autoreload\n",
    "%autoreload 2"
   ]
  },
  {
   "cell_type": "markdown",
   "id": "52897847-09e8-4174-bdd5-a516e27c8975",
   "metadata": {},
   "source": [
    "### Tutorial covering using Miniai for Image Classification\n",
    "\n",
    "This tutorial covers how to use the miniai library for image classification.  It begins with Mnist and then moves to the Imagenet Tiny.  The evolution of the models includes the use of data augmentation techniques.  Starting with Fashion Mnist"
   ]
  },
  {
   "cell_type": "markdown",
   "id": "287de3fb-b056-4058-a0f6-0b323ac526e2",
   "metadata": {},
   "source": [
    "### Import Libraies and setup"
   ]
  },
  {
   "cell_type": "code",
   "execution_count": null,
   "id": "cbd5b6c8-60c4-439b-bf79-54180f3b3f77",
   "metadata": {},
   "outputs": [],
   "source": [
    "import pickle,gzip,math,os,time,shutil,torch,matplotlib as mpl,numpy as np,matplotlib.pyplot as plt\n",
    "import fastcore.all as fc\n",
    "from collections.abc import Mapping\n",
    "from pathlib import Path\n",
    "from operator import attrgetter,itemgetter\n",
    "from functools import partial\n",
    "from copy import copy\n",
    "from contextlib import contextmanager\n",
    "import logging\n",
    "\n",
    "import torchvision.transforms.functional as TF,torch.nn.functional as F\n",
    "from torch import tensor,nn,optim\n",
    "from torch.utils.data import DataLoader,default_collate\n",
    "from torch.nn import init\n",
    "from torch.optim import lr_scheduler\n",
    "from torcheval.metrics import MulticlassAccuracy\n",
    "from datasets import load_dataset,load_dataset_builder"
   ]
  },
  {
   "cell_type": "code",
   "execution_count": null,
   "id": "1c3828ed-ed77-457d-a478-2ecab52c4f28",
   "metadata": {},
   "outputs": [],
   "source": [
    "from miniai.datasets import DataLoaders, get_dls, collate_dict, inplace\n",
    "from miniai.callbacks import (MetricsCB, DeviceCB, ProgressCB, TrainCB, \n",
    "                              BatchSchedCB, RecorderCB, OneCycleLrCB)\n",
    "from miniai.learner import Learner, TrainLearner, LRFinderCB\n",
    "from miniai.plotting import show_image, show_images\n",
    "from miniai.model_blocks import conv, ResBlock, lin, pre_conv\n",
    "from miniai.utils import set_seed, def_device\n",
    "from miniai.activations import append_stats, ActivationStatsCB\n",
    "from miniai.layers import GeneralRelu\n",
    "from miniai.init import init_weights"
   ]
  },
  {
   "cell_type": "markdown",
   "id": "3787fc65-ae32-498a-acc2-6578fb2974d0",
   "metadata": {},
   "source": [
    "### Set basic parameters and defaults"
   ]
  },
  {
   "cell_type": "code",
   "execution_count": null,
   "id": "12133b4e-1e7d-4fe5-b892-5c8f5c4c1d5b",
   "metadata": {},
   "outputs": [],
   "source": [
    "torch.set_printoptions(precision=2, linewidth=140, sci_mode=False)\n",
    "torch.manual_seed(1)\n",
    "mpl.rcParams['image.cmap'] = 'gray'\n",
    "logging.disable(logging.WARNING)\n",
    "set_seed(42)\n",
    "if fc.defaults.cpus>8: fc.defaults.cpus=8"
   ]
  },
  {
   "cell_type": "markdown",
   "id": "7e416338-6432-4332-8cc8-cfd6fe451652",
   "metadata": {},
   "source": [
    "### Load and configure Mnist Data "
   ]
  },
  {
   "cell_type": "code",
   "execution_count": null,
   "id": "265633fb-5cc9-4eb8-bd9f-4cc899c09a35",
   "metadata": {},
   "outputs": [],
   "source": [
    "xl,yl = 'image','label'\n",
    "name = \"fashion_mnist\"\n",
    "bs = 1024\n",
    "xmean,xstd = 0.28, 0.35\n",
    "\n",
    "@inplace\n",
    "def transformi(b): b[xl] = [(TF.to_tensor(o)-xmean)/xstd for o in b[xl]]\n",
    "\n",
    "dsd = load_dataset(name)\n",
    "tds = dsd.with_transform(transformi)\n",
    "dls = DataLoaders.from_dd(tds, bs, num_workers=fc.defaults.cpus)"
   ]
  },
  {
   "cell_type": "markdown",
   "id": "de187448-d63a-4a95-8e82-155a217e4d3d",
   "metadata": {},
   "source": [
    "### Prepare Model callbacks, initialization, progress monitoring and metrics"
   ]
  },
  {
   "cell_type": "markdown",
   "id": "737dec42-0152-4e95-9378-839c918cb6cc",
   "metadata": {},
   "source": [
    "Load the callback to capture activations during training.  In this case the module filter is set to GeneralRelu, which means that activations will be captured for every instance of that in the model. As an alternative the \"mods\" parameter can be used to define a list of layers for which activations will be captured.  This might be more appropriate for larger models to prevent activations from too many layers being captured."
   ]
  },
  {
   "cell_type": "code",
   "execution_count": null,
   "id": "9909a8af-3536-48f4-bd26-8e3ee1573f9a",
   "metadata": {},
   "outputs": [],
   "source": [
    "astats = ActivationStatsCB(module_filter=fc.risinstance(GeneralRelu))"
   ]
  },
  {
   "cell_type": "markdown",
   "id": "971940f2-b5a9-4c0f-91c1-55b114ce2889",
   "metadata": {},
   "source": [
    "Create a callback fo capture metrics during training.  In this case Multiclass accuracy.  Additional metrics can be created and assigned using keyword arguments.  Any metric defined using TorchEval should work.  In addition the metrics could be supplied in a list (without the keyword argument)"
   ]
  },
  {
   "cell_type": "code",
   "execution_count": null,
   "id": "ebe755a3-eaf1-4a00-988e-e03f795a58a9",
   "metadata": {},
   "outputs": [],
   "source": [
    "metrics = MetricsCB(accuracy=MulticlassAccuracy())"
   ]
  },
  {
   "cell_type": "raw",
   "id": "e48d6846-3791-4850-85ef-5b814edd5c6e",
   "metadata": {},
   "source": [
    "Add a callback to select the appropriate device for calculation. If a GPU is present it will automatically select it"
   ]
  },
  {
   "cell_type": "code",
   "execution_count": null,
   "id": "6dfebaa3-f0cc-458a-a5f8-675afa3dd203",
   "metadata": {},
   "outputs": [],
   "source": [
    "device_cb = DeviceCB()"
   ]
  },
  {
   "cell_type": "markdown",
   "id": "d27a93a4-c1ae-420c-9109-e5860ddaa9a3",
   "metadata": {},
   "source": [
    "Add a progress callback to print out and, optionally, plot training results"
   ]
  },
  {
   "cell_type": "code",
   "execution_count": null,
   "id": "562b81a3-09e4-4576-a779-93b135926789",
   "metadata": {},
   "outputs": [],
   "source": [
    "progress_cb = ProgressCB(plot=True)"
   ]
  },
  {
   "cell_type": "markdown",
   "id": "e9619850-0c52-4bc0-963d-33315055eb5b",
   "metadata": {},
   "source": [
    "Add callbacks to define the following methods in the Learner:\n",
    "1. predict\n",
    "2. get_loss\n",
    "3. backward\n",
    "4. step\n",
    "5. zero_grad\n",
    "\n",
    "The above functions are what would be expected for normal straightforward training as is required for object classification.  The beauty of the way these are structured in a callback means that these functions can be easily changed if a more complex or unusual model training is required"
   ]
  },
  {
   "cell_type": "code",
   "execution_count": null,
   "id": "ba2145be-c150-4de5-a591-00448f22ecad",
   "metadata": {},
   "outputs": [],
   "source": [
    "train_cb = TrainCB()"
   ]
  },
  {
   "cell_type": "markdown",
   "id": "b4aa98c5-5d4d-49ed-b1ea-3915353c8044",
   "metadata": {},
   "source": [
    "Create a list of the callbacks to be used in the model.  Others can be added if needed"
   ]
  },
  {
   "cell_type": "code",
   "execution_count": null,
   "id": "e6c09380-755a-45ad-89ee-c530ccd5c524",
   "metadata": {},
   "outputs": [],
   "source": [
    "cbs = [device_cb, metrics, progress_cb, astats, train_cb]"
   ]
  },
  {
   "cell_type": "markdown",
   "id": "483572b7-586e-421d-ad8e-501fb4ab96b2",
   "metadata": {},
   "source": [
    "Create an activation function based on the GeneralRelu with predefined values for leak and sub"
   ]
  },
  {
   "cell_type": "code",
   "execution_count": null,
   "id": "df12446f-0652-4aae-abba-c9a9346ca3de",
   "metadata": {},
   "outputs": [],
   "source": [
    "act_gr = partial(GeneralRelu, leak=0.1, sub=0.4)"
   ]
  },
  {
   "cell_type": "markdown",
   "id": "6fa97a09-23c9-4392-b95a-33b6e9c15f43",
   "metadata": {},
   "source": [
    "Define an initialisation function.  This will be applied to any conv layer and will assign a Kaiming normal initialisation using the value for leaky define"
   ]
  },
  {
   "cell_type": "code",
   "execution_count": null,
   "id": "7d665db6-278f-4eb5-baa9-e0577257beea",
   "metadata": {},
   "outputs": [],
   "source": [
    "iw = partial(init_weights, leaky=0.1)"
   ]
  },
  {
   "cell_type": "markdown",
   "id": "e34b0777-0221-48ac-a392-b50be74c8cd9",
   "metadata": {},
   "source": [
    "Create a function to generate a ResNet style model using ResBlocks.  The ResBlocks have a conv block containing two conv layers, with the first conv block changing the number of channels and the second the resolution (if required).  Activations is by default only applied to the output form the first conv block.\n",
    "\n",
    "As well as the conv block the ResBlock also has a pass through path that uses a pooling layer (if the resolution needs to be changed) and a conv layer (if the nuber of channels needs to change). After the outputs from the pass through path and the conv block are combined an optional activation can be applied\n",
    "\n",
    "In the function below blocks are stacked with progressively increasing numbers of channels (if the defaults are used).  By default BatchNorm2d is used for normalisation, "
   ]
  },
  {
   "cell_type": "code",
   "execution_count": null,
   "id": "e14c8059-dbc5-4298-8c9a-ec4470682493",
   "metadata": {},
   "outputs": [],
   "source": [
    "def get_model(act=nn.ReLU, nfs=(8, 16, 32, 64, 128, 256), norm=nn.BatchNorm2d):\n",
    "    layers = [ResBlock(1, nfs[0], stride=1, act=act, norm=norm)]\n",
    "    layers += [ResBlock(nfs[i], nfs[i+1], stride=2, act=act, norm=norm) for i in range(len(nfs)-1)]\n",
    "    layers += [nn.Flatten(), nn.Linear(nfs[-1], 10, bias=False), nn.BatchNorm1d(10)]\n",
    "    return nn.Sequential(*layers).to(def_device)"
   ]
  },
  {
   "cell_type": "code",
   "execution_count": null,
   "id": "0a4354a6-1fbf-4fda-8ac2-63e576ac7924",
   "metadata": {},
   "outputs": [],
   "source": [
    "model = get_model(act=act_gr, norm=nn.BatchNorm2d).apply(iw)"
   ]
  },
  {
   "cell_type": "markdown",
   "id": "c878129d-9afe-459b-b206-6d756bc2b7cd",
   "metadata": {},
   "source": [
    "Create a learner using the callbacks and model created"
   ]
  },
  {
   "cell_type": "code",
   "execution_count": null,
   "id": "a29bf214-1210-4f52-bcf2-aba338a54eb8",
   "metadata": {},
   "outputs": [],
   "source": [
    "learn = Learner(model=model, dls=dls, loss_func=F.cross_entropy, lr=0.001, cbs=cbs, opt_func=optim.Adam)"
   ]
  },
  {
   "cell_type": "markdown",
   "id": "d5424fea-7e9a-45bc-8068-1d2bac8e23c3",
   "metadata": {},
   "source": [
    "There is a very useful \".summary() method built into the learner that will summarise the input and output shapes of the layers as well as summarizing the number of parameters in the model.  The result of running the model is shown below where it can be seen how the number of parameters increased as the model gets deeper, but also how the downsizing means that the last conv has only a 1x1 resolution, though a large number of channels."
   ]
  },
  {
   "cell_type": "code",
   "execution_count": null,
   "id": "00a3bc9e-335d-466b-ab4d-575a6a4472fe",
   "metadata": {},
   "outputs": [
    {
     "data": {
      "text/html": [
       "\n",
       "<style>\n",
       "    /* Turns off some styling */\n",
       "    progress {\n",
       "        /* gets rid of default border in Firefox and Opera. */\n",
       "        border: none;\n",
       "        /* Needs to be in here for Safari polyfill so background images work as expected. */\n",
       "        background-size: auto;\n",
       "    }\n",
       "    progress:not([value]), progress:not([value])::-webkit-progress-bar {\n",
       "        background: repeating-linear-gradient(45deg, #7e7e7e, #7e7e7e 10px, #5c5c5c 10px, #5c5c5c 20px);\n",
       "    }\n",
       "    .progress-bar-interrupted, .progress-bar-interrupted::-webkit-progress-bar {\n",
       "        background: #F44336;\n",
       "    }\n",
       "</style>\n"
      ],
      "text/plain": [
       "<IPython.core.display.HTML object>"
      ]
     },
     "metadata": {},
     "output_type": "display_data"
    },
    {
     "data": {
      "text/html": [
       "\n",
       "    <div>\n",
       "      <progress value='0' class='' max='1' style='width:300px; height:20px; vertical-align: middle;'></progress>\n",
       "      0.00% [0/1 00:00&lt;?]\n",
       "    </div>\n",
       "    \n",
       "\n",
       "\n",
       "    <div>\n",
       "      <progress value='0' class='' max='10' style='width:300px; height:20px; vertical-align: middle;'></progress>\n",
       "      0.00% [0/10 00:00&lt;?]\n",
       "    </div>\n",
       "    "
      ],
      "text/plain": [
       "<IPython.core.display.HTML object>"
      ]
     },
     "metadata": {},
     "output_type": "display_data"
    },
    {
     "name": "stdout",
     "output_type": "stream",
     "text": [
      "Total Parameters: 1227900\n"
     ]
    },
    {
     "data": {
      "text/markdown": [
       "|Module|Input|Output|Num params|\n",
       "|--|--|--|--|\n",
       "|ResBlock|(1024, 1, 28, 28)|(1024, 8, 28, 28)|696|\n",
       "|ResBlock|(1024, 8, 28, 28)|(1024, 16, 14, 14)|3664|\n",
       "|ResBlock|(1024, 16, 14, 14)|(1024, 32, 7, 7)|14496|\n",
       "|ResBlock|(1024, 32, 7, 7)|(1024, 64, 4, 4)|57664|\n",
       "|ResBlock|(1024, 64, 4, 4)|(1024, 128, 2, 2)|230016|\n",
       "|ResBlock|(1024, 128, 2, 2)|(1024, 256, 1, 1)|918784|\n",
       "|Flatten|(1024, 256, 1, 1)|(1024, 256)|0|\n",
       "|Linear|(1024, 256)|(1024, 10)|2560|\n",
       "|BatchNorm1d|(1024, 10)|(1024, 10)|20|\n"
      ],
      "text/plain": [
       "<IPython.core.display.Markdown object>"
      ]
     },
     "execution_count": null,
     "metadata": {},
     "output_type": "execute_result"
    }
   ],
   "source": [
    "learn.summary()"
   ]
  },
  {
   "cell_type": "markdown",
   "id": "19acd72a-e16b-434b-a551-f5f79372c94e",
   "metadata": {},
   "source": [
    "### Training the Model "
   ]
  },
  {
   "cell_type": "markdown",
   "id": "f1cc050c-f21b-4ee1-b6ae-2e5a368020e4",
   "metadata": {},
   "source": [
    "Everything is ready to train the model.  There is a lot more that can be done to improve the performance but to provide a baseline this model will be trained before some additional features are introduce to improve performance further.  It is helpful to explore what sort of learning rate might work for this model.  There is a method (.lr_find) in the Learner to explore this."
   ]
  },
  {
   "cell_type": "code",
   "execution_count": null,
   "id": "01fc47e4-57f3-4797-83cd-11e91200916a",
   "metadata": {},
   "outputs": [
    {
     "data": {
      "text/html": [
       "\n",
       "<style>\n",
       "    /* Turns off some styling */\n",
       "    progress {\n",
       "        /* gets rid of default border in Firefox and Opera. */\n",
       "        border: none;\n",
       "        /* Needs to be in here for Safari polyfill so background images work as expected. */\n",
       "        background-size: auto;\n",
       "    }\n",
       "    progress:not([value]), progress:not([value])::-webkit-progress-bar {\n",
       "        background: repeating-linear-gradient(45deg, #7e7e7e, #7e7e7e 10px, #5c5c5c 10px, #5c5c5c 20px);\n",
       "    }\n",
       "    .progress-bar-interrupted, .progress-bar-interrupted::-webkit-progress-bar {\n",
       "        background: #F44336;\n",
       "    }\n",
       "</style>\n"
      ],
      "text/plain": [
       "<IPython.core.display.HTML object>"
      ]
     },
     "metadata": {},
     "output_type": "display_data"
    },
    {
     "data": {
      "text/html": [
       "\n",
       "    <div>\n",
       "      <progress value='0' class='' max='10' style='width:300px; height:20px; vertical-align: middle;'></progress>\n",
       "      0.00% [0/10 00:00&lt;?]\n",
       "    </div>\n",
       "    \n",
       "\n",
       "\n",
       "    <div>\n",
       "      <progress value='41' class='' max='59' style='width:300px; height:20px; vertical-align: middle;'></progress>\n",
       "      69.49% [41/59 00:18&lt;00:07 1.502]\n",
       "    </div>\n",
       "    "
      ],
      "text/plain": [
       "<IPython.core.display.HTML object>"
      ]
     },
     "metadata": {},
     "output_type": "display_data"
    },
    {
     "data": {
      "image/png": "[encoded data removed]",
      "text/plain": [
       "<Figure size 640x480 with 1 Axes>"
      ]
     },
     "metadata": {},
     "output_type": "display_data"
    }
   ],
   "source": [
    "learn.lr_find()"
   ]
  },
  {
   "cell_type": "markdown",
   "id": "1d4052ec-6e07-4281-b9a0-ab8a07ad4748",
   "metadata": {},
   "source": [
    "It is desirable to use a learning rate as high as possible before the minima. In this case 1E-3 is not a bad starting point.  Initially the model will be trained for 5 epochs and this will serve to compare performance when additional features are added"
   ]
  },
  {
   "cell_type": "code",
   "execution_count": null,
   "id": "c265d40e-cb3f-45d8-8a59-57795aa95f1c",
   "metadata": {},
   "outputs": [
    {
     "data": {
      "text/html": [
       "\n",
       "<style>\n",
       "    /* Turns off some styling */\n",
       "    progress {\n",
       "        /* gets rid of default border in Firefox and Opera. */\n",
       "        border: none;\n",
       "        /* Needs to be in here for Safari polyfill so background images work as expected. */\n",
       "        background-size: auto;\n",
       "    }\n",
       "    progress:not([value]), progress:not([value])::-webkit-progress-bar {\n",
       "        background: repeating-linear-gradient(45deg, #7e7e7e, #7e7e7e 10px, #5c5c5c 10px, #5c5c5c 20px);\n",
       "    }\n",
       "    .progress-bar-interrupted, .progress-bar-interrupted::-webkit-progress-bar {\n",
       "        background: #F44336;\n",
       "    }\n",
       "</style>\n"
      ],
      "text/plain": [
       "<IPython.core.display.HTML object>"
      ]
     },
     "metadata": {},
     "output_type": "display_data"
    },
    {
     "data": {
      "text/html": [
       "<table border=\"1\" class=\"dataframe\">\n",
       "  <thead>\n",
       "    <tr style=\"text-align: left;\">\n",
       "      <th>accuracy</th>\n",
       "      <th>loss</th>\n",
       "      <th>epoch</th>\n",
       "      <th>train</th>\n",
       "    </tr>\n",
       "  </thead>\n",
       "  <tbody>\n",
       "    <tr>\n",
       "      <td>0.777</td>\n",
       "      <td>0.615</td>\n",
       "      <td>0</td>\n",
       "      <td>train</td>\n",
       "    </tr>\n",
       "    <tr>\n",
       "      <td>0.863</td>\n",
       "      <td>0.404</td>\n",
       "      <td>0</td>\n",
       "      <td>eval</td>\n",
       "    </tr>\n",
       "    <tr>\n",
       "      <td>0.890</td>\n",
       "      <td>0.303</td>\n",
       "      <td>1</td>\n",
       "      <td>train</td>\n",
       "    </tr>\n",
       "    <tr>\n",
       "      <td>0.877</td>\n",
       "      <td>0.338</td>\n",
       "      <td>1</td>\n",
       "      <td>eval</td>\n",
       "    </tr>\n",
       "    <tr>\n",
       "      <td>0.910</td>\n",
       "      <td>0.251</td>\n",
       "      <td>2</td>\n",
       "      <td>train</td>\n",
       "    </tr>\n",
       "    <tr>\n",
       "      <td>0.892</td>\n",
       "      <td>0.282</td>\n",
       "      <td>2</td>\n",
       "      <td>eval</td>\n",
       "    </tr>\n",
       "    <tr>\n",
       "      <td>0.920</td>\n",
       "      <td>0.222</td>\n",
       "      <td>3</td>\n",
       "      <td>train</td>\n",
       "    </tr>\n",
       "    <tr>\n",
       "      <td>0.907</td>\n",
       "      <td>0.266</td>\n",
       "      <td>3</td>\n",
       "      <td>eval</td>\n",
       "    </tr>\n",
       "    <tr>\n",
       "      <td>0.927</td>\n",
       "      <td>0.200</td>\n",
       "      <td>4</td>\n",
       "      <td>train</td>\n",
       "    </tr>\n",
       "    <tr>\n",
       "      <td>0.911</td>\n",
       "      <td>0.249</td>\n",
       "      <td>4</td>\n",
       "      <td>eval</td>\n",
       "    </tr>\n",
       "  </tbody>\n",
       "</table>"
      ],
      "text/plain": [
       "<IPython.core.display.HTML object>"
      ]
     },
     "metadata": {},
     "output_type": "display_data"
    },
    {
     "data": {
      "image/png": "[encoded data removed]",
      "text/plain": [
       "<Figure size 600x400 with 1 Axes>"
      ]
     },
     "metadata": {},
     "output_type": "display_data"
    }
   ],
   "source": [
    "learn.fit(n_epochs=5, lr=1.e-2)"
   ]
  },
  {
   "cell_type": "markdown",
   "id": "f173c505-a3c6-480d-81e6-b6dcf34e7bb9",
   "metadata": {},
   "source": [
    "The best performance on the validation set is 90.8% and is still improving.  Not bad and the model can be made larger if needed.  Before that, however, there are other improvements that can be made.  The two that will be added next are:\n",
    "1. Learning Rate Schedulers\n",
    "2. Data Augmentation"
   ]
  },
  {
   "cell_type": "markdown",
   "id": "97bc62bc-fc3e-4d55-919a-3b1f2aa46763",
   "metadata": {},
   "source": [
    "### Learning Rate Schedulers "
   ]
  },
  {
   "cell_type": "markdown",
   "id": "f0e02053-93a6-4306-982c-cf515e9e0939",
   "metadata": {},
   "source": [
    "Learning rate schedulers can be constructed by inheriting from the base classes BaseSchedCB.  Two specific implementations are BatchSchedCB and EpochSchedCB.  BatchSchedCD takes a scheduler as input and applied a step after every batch.  EpochSchedB does the same but after each epoch, and hence is a much more coarse way of applying the scheduler.\n",
    "\n",
    "In addition there is a callback OneCycleLrCB that is specifically tailored to make it easy to use the One Cycle Learning Rate Policy developed by Leslie Smith [link to paper](https://arxiv.org/pdf/1506.01186.pdf)\n",
    "\n",
    "As a demonstation and comparison of a Cosine annealing and the OneCycle annealing both will be implemented.  In order to facilitate plotting the changes in optimiser parameters an additional callback RecorderCB has also been developed and will be used."
   ]
  },
  {
   "cell_type": "markdown",
   "id": "64c1dd07-f089-450b-bc09-1fd38f70f57d",
   "metadata": {},
   "source": [
    "#### Cosine Annealing"
   ]
  },
  {
   "cell_type": "markdown",
   "id": "a4d1134b-7dce-4c40-a590-97fc31f22712",
   "metadata": {},
   "source": [
    "In this case the BatchSchedCB will be used.  The necessary steps are:\n",
    "1. Define the total number of steps over which to apply the schedule\n",
    "2. Create a partial function with the scheduler and the max steps to apply it over\n",
    "3. Create a callback with the partial scheduler function.  Note that any other of the scheduler arguments can also be assigned at this point\n",
    "\n",
    "The following illustrated the process"
   ]
  },
  {
   "cell_type": "code",
   "execution_count": null,
   "id": "9303b1ff-18ce-4958-b187-5a01afbbeb17",
   "metadata": {},
   "outputs": [],
   "source": [
    "# Define how many epochs to use for the training step\n",
    "n_epochs=5\n",
    "# Calculate the number of steps\n",
    "total_steps = n_epochs * len(dls.train)\n",
    "# Create the partial scheduler\n",
    "sched = partial(lr_scheduler.CosineAnnealingLR, T_max=total_steps)\n",
    "# Create the callback\n",
    "sched_cb = BatchSchedCB(sched)\n",
    "\n",
    "# Define a function to return the learning rate for the recorder\n",
    "def _lr(cb):\n",
    "    \"\"\" Return the learning rate for a specific parameter group\n",
    "    \"\"\"\n",
    "    return cb.pg['lr']\n",
    "\n",
    "def _beta0(cb):\n",
    "    \"\"\" Return the momentum for a specific parameter group\n",
    "    \"\"\"\n",
    "    return cb.pg['betas'][0]\n",
    "\n",
    "def _beta1(cb):\n",
    "    \"\"\" Return the momentum for a specific parameter group\n",
    "    \"\"\"\n",
    "    return cb.pg['betas'][1] \n",
    "\n",
    "\n",
    "recorder_cb = RecorderCB(lr=_lr, beta0=_beta0, beta1=_beta1)"
   ]
  },
  {
   "cell_type": "code",
   "execution_count": null,
   "id": "2e0c5cf1-9622-4016-bd25-4086dc1f38a2",
   "metadata": {},
   "outputs": [],
   "source": [
    "model = torch.nn.Sequential(torch.nn.Conv2d(3, 6, kernel_size=3), torch.nn.Conv2d(6, 12, kernel_size=3))"
   ]
  },
  {
   "cell_type": "code",
   "execution_count": null,
   "id": "8ec924c7-960b-46b9-a350-4d39213ba7e7",
   "metadata": {},
   "outputs": [],
   "source": [
    "opt = torch.optim.Adam"
   ]
  },
  {
   "cell_type": "code",
   "execution_count": null,
   "id": "7ed30a35-5596-4983-904f-7bbebbb4b66e",
   "metadata": {},
   "outputs": [
    {
     "data": {
      "text/html": [
       "\n",
       "<style>\n",
       "    /* Turns off some styling */\n",
       "    progress {\n",
       "        /* gets rid of default border in Firefox and Opera. */\n",
       "        border: none;\n",
       "        /* Needs to be in here for Safari polyfill so background images work as expected. */\n",
       "        background-size: auto;\n",
       "    }\n",
       "    progress:not([value]), progress:not([value])::-webkit-progress-bar {\n",
       "        background: repeating-linear-gradient(45deg, #7e7e7e, #7e7e7e 10px, #5c5c5c 10px, #5c5c5c 20px);\n",
       "    }\n",
       "    .progress-bar-interrupted, .progress-bar-interrupted::-webkit-progress-bar {\n",
       "        background: #F44336;\n",
       "    }\n",
       "</style>\n"
      ],
      "text/plain": [
       "<IPython.core.display.HTML object>"
      ]
     },
     "metadata": {},
     "output_type": "display_data"
    },
    {
     "data": {
      "text/html": [
       "\n",
       "    <div>\n",
       "      <progress value='0' class='' max='5' style='width:300px; height:20px; vertical-align: middle;'></progress>\n",
       "      0.00% [0/5 00:00&lt;?]\n",
       "    </div>\n",
       "    \n",
       "\n",
       "\n",
       "    <div>\n",
       "      <progress value='4' class='' max='59' style='width:300px; height:20px; vertical-align: middle;'></progress>\n",
       "      6.78% [4/59 00:17&lt;03:54 1.387]\n",
       "    </div>\n",
       "    "
      ],
      "text/plain": [
       "<IPython.core.display.HTML object>"
      ]
     },
     "metadata": {},
     "output_type": "display_data"
    }
   ],
   "source": [
    "set_seed(42)\n",
    "model = get_model(act_gr, norm=nn.BatchNorm2d).apply(iw)\n",
    "xtra = [sched_cb,recorder_cb]\n",
    "learn = TrainLearner(model, dls, F.cross_entropy, lr=2e-2, cbs=cbs+xtra, opt_func=opt)\n",
    "learn.fit(5)"
   ]
  },
  {
   "cell_type": "code",
   "execution_count": null,
   "id": "0f9dcfba-40ed-4313-b4c8-30a3b1319fea",
   "metadata": {},
   "outputs": [],
   "source": [
    "recorder_cb.plot()"
   ]
  },
  {
   "cell_type": "markdown",
   "id": "cf35848e-5727-48b8-82de-b2d14b196de8",
   "metadata": {},
   "source": [
    "It can be seen that the cosine annealing does not change the momentum term of the Adam optimiser.  In this case the accuracy of the model after 5 epochs is slightly better than that of the case without the scheculing (91.7% vs. 90.8%).  Still better results are likely to be obtainable using the OneCycle Learning rate scheduler mentioned above.  To make this a bit easier to use the callback has been written to calculate the steps etc based upon the number of epochs automatically."
   ]
  },
  {
   "cell_type": "markdown",
   "id": "382dffac-78ba-40c8-a6ea-eaaa7b8a2f08",
   "metadata": {},
   "source": [
    "#### Train using OneCycle scheduler\n",
    "\n",
    "The parameters needed for the schedulers in pytorch vary and so it is not easy to write one high level scheduler callback that avoids the need for calculating steps etc.  In the case of the one cycle learner, this is such a frequently used callback that a customised scheduler callback has been developed.  As well as calculating the schedule using the number of epochs automatically it also facilitates passing other parameters into the callback using kwargs (for example to vary the shape of the curves, the changes to momentum etc).  This will be demonstrated using the basic settings"
   ]
  },
  {
   "cell_type": "code",
   "execution_count": null,
   "id": "e9de5a39-3fbc-4ae1-bf6f-07a28bbd5c40",
   "metadata": {},
   "outputs": [],
   "source": [
    "# Define how many epochs to use for the training step\n",
    "n_epochs=5\n",
    "\n",
    "# Create scheduler\n",
    "sched_cd = OneCycleLrCB(max_lr = 1.E-2)\n",
    "\n",
    "# Define the recorder parameters\n",
    "# Define a function to return the learning rate for the recorder\n",
    "def _lr(cb):\n",
    "    \"\"\" Return the learning rate for a specific parameter group\n",
    "    \"\"\"\n",
    "    return cb.pg['lr']\n",
    "\n",
    "def _beta0(cb):\n",
    "    \"\"\" Return the momentum for a specific parameter group\n",
    "    \"\"\"\n",
    "    return cb.pg['betas'][0]\n",
    "\n",
    "def _beta1(cb):\n",
    "    \"\"\" Return the momentum for a specific parameter group\n",
    "    \"\"\"\n",
    "    return cb.pg['betas'][1] \n",
    "\n",
    "\n",
    "recorder_cb = RecorderCB(lr=_lr, beta0=_beta0, beta1=_beta1)"
   ]
  },
  {
   "cell_type": "code",
   "execution_count": null,
   "id": "0dac01f2-6b78-48e9-9be5-04b95f394bd5",
   "metadata": {},
   "outputs": [],
   "source": [
    "set_seed(42)\n",
    "opt = torch.optim.Adam\n",
    "model = get_model(act_gr, norm=nn.BatchNorm2d).apply(iw)\n",
    "xtra = [sched_cd,recorder_cb]\n",
    "learn = TrainLearner(model, dls, F.cross_entropy, lr=2e-2, cbs=cbs+xtra, opt_func=opt)\n",
    "learn.fit(5)"
   ]
  },
  {
   "cell_type": "code",
   "execution_count": null,
   "id": "36244b33-75e9-4ce5-aa52-667bee1debdb",
   "metadata": {},
   "outputs": [],
   "source": [
    "recorder_cb.plot()"
   ]
  },
  {
   "cell_type": "markdown",
   "id": "1d2daad5-8403-40b9-9a76-6977f1bf44c5",
   "metadata": {},
   "source": [
    "The use of the one cycle schedul has increased the accuracy again, this time from 91.7 to 92.6.  This might not seem much but this reduces errors by about 10% and is significant.  The plot above show how learning rate and momentum are varied by the scheduler.  In this case the momentum values are changes significantly"
   ]
  },
  {
   "cell_type": "code",
   "execution_count": null,
   "id": "4b89ea04-c7c1-4d86-8bd4-a25e9ac8186b",
   "metadata": {},
   "outputs": [],
   "source": []
  }
 ],
 "metadata": {
  "kernelspec": {
   "display_name": "miniai_env",
   "language": "python",
   "name": "miniai_env"
  }
 },
 "nbformat": 4,
 "nbformat_minor": 5
}
